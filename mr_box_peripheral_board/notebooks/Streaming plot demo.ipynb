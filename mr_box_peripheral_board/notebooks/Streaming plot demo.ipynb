{
 "cells": [
  {
   "cell_type": "markdown",
   "metadata": {
    "toc": "true"
   },
   "source": [
    "# Table of Contents\n",
    " <p><div class=\"lev1 toc-item\"><a href=\"#Embedded-in-Jupyter-notebook\" data-toc-modified-id=\"Embedded-in-Jupyter-notebook-1\"><span class=\"toc-item-num\">1&nbsp;&nbsp;</span>Embedded in Jupyter notebook</a></div><div class=\"lev1 toc-item\"><a href=\"#Using-GTK\" data-toc-modified-id=\"Using-GTK-2\"><span class=\"toc-item-num\">2&nbsp;&nbsp;</span>Using GTK</a></div><div class=\"lev2 toc-item\"><a href=\"#Example-of-how-to-compress-bytes-(e.g.,-JSON)-to-bzip2\" data-toc-modified-id=\"Example-of-how-to-compress-bytes-(e.g.,-JSON)-to-bzip2-21\"><span class=\"toc-item-num\">2.1&nbsp;&nbsp;</span>Example of how to compress bytes (e.g., JSON) to bzip2</a></div>"
   ]
  },
  {
   "cell_type": "markdown",
   "metadata": {},
   "source": [
    "# Embedded in Jupyter notebook"
   ]
  },
  {
   "cell_type": "code",
   "execution_count": null,
   "metadata": {
    "ExecuteTime": {
     "end_time": "2017-08-04T05:49:33.077000Z",
     "start_time": "2017-08-04T05:49:31.785000Z"
    },
    "collapsed": true
   },
   "outputs": [],
   "source": [
    "%matplotlib notebook\n",
    "\n",
    "import matplotlib as mpl\n",
    "import matplotlib.pyplot as plt\n",
    "\n",
    "import time\n",
    "import threading\n",
    "\n",
    "import ipywidgets as ipw\n",
    "import numpy as np\n",
    "import pandas as pd\n",
    "\n",
    "\n",
    "fig, axis = plt.subplots()\n",
    "\n",
    "axis._get_lines()\n",
    "stop_event = threading.Event()\n",
    "np.random.seed(0)\n",
    "data = []\n",
    "\n",
    "\n",
    "def _draw():\n",
    "    while True:\n",
    "        if data:\n",
    "            pd.Series(np.concatenate(data)).plot(ax=axis)\n",
    "            fig.canvas.show()\n",
    "        data.append(np.random.rand(10))\n",
    "        if stop_event.wait(.5):\n",
    "            break\n",
    "    stop_event.clear()\n",
    "    start.disabled = False\n",
    "    stop.disabled = True\n",
    "        \n",
    "    \n",
    "def _start(*args):\n",
    "    start.disabled = True\n",
    "    stop.disabled = False\n",
    "    thread = threading.Thread(target=_draw)\n",
    "    thread.daemon = True\n",
    "    thread.start()\n",
    "\n",
    "start = ipw.Button(description='Start')\n",
    "start.on_click(_start)\n",
    "stop = ipw.Button(description='Stop')\n",
    "stop.on_click(lambda *args: stop_event.set())\n",
    "clear = ipw.Button(description='Clear')\n",
    "def _clear(*args):\n",
    "    axis.cla()\n",
    "    for i in xrange(len(data)):\n",
    "        data.pop()\n",
    "clear.on_click(_clear)\n",
    "\n",
    "widget = ipw.HBox([start, stop, clear])\n",
    "widget"
   ]
  },
  {
   "cell_type": "markdown",
   "metadata": {},
   "source": [
    "------------------------------------------------------------------------"
   ]
  },
  {
   "cell_type": "markdown",
   "metadata": {},
   "source": [
    "# Using GTK"
   ]
  },
  {
   "cell_type": "code",
   "execution_count": null,
   "metadata": {
    "ExecuteTime": {
     "end_time": "2017-08-04T08:46:58.496000Z",
     "start_time": "2017-08-04T08:46:53.215000Z"
    },
    "collapsed": true
   },
   "outputs": [],
   "source": [
    "import gtk\n",
    "import gobject\n",
    "import threading\n",
    "import datetime as dt\n",
    "\n",
    "import matplotlib as mpl\n",
    "import matplotlib.style\n",
    "import numpy as np\n",
    "import pandas as pd\n",
    "\n",
    "from mr_box_peripheral_board.ui.gtk.streaming_plot import StreamingPlot\n",
    "\n",
    "\n",
    "def _generate_data(stop_event, data_ready, data):\n",
    "    delta_t = dt.timedelta(seconds=.1)\n",
    "    samples_per_plot = 5\n",
    "\n",
    "    while True:\n",
    "        time_0 = dt.datetime.now()\n",
    "        values_i = np.random.rand(samples_per_plot)\n",
    "        absolute_times_i = pd.Series([time_0 + i * delta_t\n",
    "                                      for i in xrange(len(values_i))])\n",
    "        data_i = pd.Series(values_i, index=absolute_times_i)\n",
    "        data.append(data_i)\n",
    "        data_ready.set()\n",
    "        if stop_event.wait(samples_per_plot *\n",
    "                           delta_t.total_seconds()):\n",
    "            break\n",
    "        \n",
    "with mpl.style.context('seaborn',\n",
    "                       {'image.cmap': 'gray',\n",
    "                        'image.interpolation' : 'none'}):\n",
    "    win = gtk.Window()\n",
    "    win.set_default_size(800, 600)\n",
    "    view = StreamingPlot(data_func=_generate_data)\n",
    "    win.add(view.widget)\n",
    "    win.connect('check-resize', lambda *args: view.on_resize())\n",
    "    win.set_position(gtk.WIN_POS_MOUSE)\n",
    "    win.show_all()\n",
    "    view.fig.tight_layout()\n",
    "    win.connect('destroy', gtk.main_quit)\n",
    "    gobject.idle_add(view.start)\n",
    "    \n",
    "    def auto_close(*args):\n",
    "        if not view.stop_event.is_set():\n",
    "            # User did not explicitly pause the measurement.  Automatically\n",
    "            # close the measurement and continue.\n",
    "            win.destroy()\n",
    "    gobject.timeout_add(5000, auto_close)\n",
    "    \n",
    "    measurement_complete = threading.Event()\n",
    "    \n",
    "    view.widget.connect('destroy', lambda *args: measurement_complete.set())\n",
    "\n",
    "    gtk.gdk.threads_init()\n",
    "    gtk.gdk.threads_enter()\n",
    "    gtk.main()\n",
    "    gtk.gdk.threads_leave()\n",
    "    \n",
    "    print measurement_complete.wait()"
   ]
  },
  {
   "cell_type": "markdown",
   "metadata": {},
   "source": [
    "## Example of how to compress bytes (e.g., JSON) to bzip2"
   ]
  },
  {
   "cell_type": "code",
   "execution_count": null,
   "metadata": {
    "ExecuteTime": {
     "end_time": "2017-08-04T07:04:14.111000Z",
     "start_time": "2017-08-04T07:04:14.080000Z"
    },
    "collapsed": true
   },
   "outputs": [],
   "source": [
    "from IPython.display import display\n",
    "import bz2\n",
    "\n",
    "\n",
    "data = pd.concat(view.data)\n",
    "data_json = data.to_json()\n",
    "data_json_bz2 = bz2.compress(data_json)\n",
    "data_from_json = pd.read_json(bz2.decompress(data_json_bz2), typ='series')\n",
    "len(data_json), len(data_json_bz2)"
   ]
  }
 ],
 "metadata": {
  "kernelspec": {
   "display_name": "Python 2",
   "language": "python",
   "name": "python2"
  },
  "language_info": {
   "codemirror_mode": {
    "name": "ipython",
    "version": 2
   },
   "file_extension": ".py",
   "mimetype": "text/x-python",
   "name": "python",
   "nbconvert_exporter": "python",
   "pygments_lexer": "ipython2",
   "version": "2.7.13"
  },
  "toc": {
   "colors": {
    "hover_highlight": "#DAA520",
    "navigate_num": "#000000",
    "navigate_text": "#333333",
    "running_highlight": "#FF0000",
    "selected_highlight": "#FFD700",
    "sidebar_border": "#EEEEEE",
    "wrapper_background": "#FFFFFF"
   },
   "moveMenuLeft": true,
   "nav_menu": {
    "height": "12px",
    "width": "252px"
   },
   "navigate_menu": true,
   "number_sections": true,
   "sideBar": true,
   "threshold": 4,
   "toc_cell": true,
   "toc_section_display": "block",
   "toc_window_display": true,
   "widenNotebook": false
  }
 },
 "nbformat": 4,
 "nbformat_minor": 2
}
