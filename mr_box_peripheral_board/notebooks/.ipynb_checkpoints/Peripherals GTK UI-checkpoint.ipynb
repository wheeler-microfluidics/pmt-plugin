{
 "cells": [
  {
   "cell_type": "markdown",
   "metadata": {
    "toc": "true"
   },
   "source": [
    "# Table of Contents\n",
    " <p><div class=\"lev1 toc-item\"><a href=\"#PMT/ADC\" data-toc-modified-id=\"PMT/ADC-1\"><span class=\"toc-item-num\">1&nbsp;&nbsp;</span>PMT/ADC</a></div><div class=\"lev2 toc-item\"><a href=\"#Example-of-how-to-compress-bytes-(e.g.,-JSON)-to-bzip2\" data-toc-modified-id=\"Example-of-how-to-compress-bytes-(e.g.,-JSON)-to-bzip2-11\"><span class=\"toc-item-num\">1.1&nbsp;&nbsp;</span>Example of how to compress bytes (e.g., JSON) to bzip2</a></div><div class=\"lev1 toc-item\"><a href=\"#Pump\" data-toc-modified-id=\"Pump-2\"><span class=\"toc-item-num\">2&nbsp;&nbsp;</span>Pump</a></div>"
   ]
  },
  {
   "cell_type": "markdown",
   "metadata": {},
   "source": [
    "# PMT/ADC"
   ]
  },
  {
   "cell_type": "code",
   "execution_count": 1,
   "metadata": {
    "ExecuteTime": {
     "end_time": "2017-08-04T19:25:38.397000Z",
     "start_time": "2017-08-04T19:25:33.137000Z"
    },
    "scrolled": false
   },
   "outputs": [
    {
     "ename": "ImportError",
     "evalue": "No module named streaming_plot",
     "output_type": "error",
     "traceback": [
      "\u001b[0;31m---------------------------------------------------------------------------\u001b[0m",
      "\u001b[0;31mImportError\u001b[0m                               Traceback (most recent call last)",
      "\u001b[0;32m<ipython-input-1-1c32164c6b1e>\u001b[0m in \u001b[0;36m<module>\u001b[0;34m()\u001b[0m\n\u001b[1;32m      9\u001b[0m \u001b[1;32mimport\u001b[0m \u001b[0mpandas\u001b[0m \u001b[1;32mas\u001b[0m \u001b[0mpd\u001b[0m\u001b[1;33m\u001b[0m\u001b[0m\n\u001b[1;32m     10\u001b[0m \u001b[1;33m\u001b[0m\u001b[0m\n\u001b[0;32m---> 11\u001b[0;31m \u001b[1;32mfrom\u001b[0m \u001b[0mstreaming_plot\u001b[0m \u001b[1;32mimport\u001b[0m \u001b[0mStreamingPlot\u001b[0m\u001b[1;33m\u001b[0m\u001b[0m\n\u001b[0m\u001b[1;32m     12\u001b[0m \u001b[1;33m\u001b[0m\u001b[0m\n\u001b[1;32m     13\u001b[0m \u001b[1;33m\u001b[0m\u001b[0m\n",
      "\u001b[0;31mImportError\u001b[0m: No module named streaming_plot"
     ]
    }
   ],
   "source": [
    "import gtk\n",
    "import gobject\n",
    "import threading\n",
    "import datetime as dt\n",
    "\n",
    "import matplotlib as mpl\n",
    "import matplotlib.style\n",
    "import numpy as np\n",
    "import pandas as pd\n",
    "\n",
    "from streaming_plot import StreamingPlot\n",
    "\n",
    "\n",
    "def _generate_data(stop_event, data_ready, data):\n",
    "    '''\n",
    "    Generate random data to emulate, e.g., reading data from ADC.\n",
    "\n",
    "    The function is run in its own thread.\n",
    "    \n",
    "    Parameters\n",
    "    ----------\n",
    "\n",
    "    stop_event : threading.Event\n",
    "        Function returns when :data:`stop_event` is set.\n",
    "    data_ready : threading.Event\n",
    "        Function sets :data:`data_ready` whenever new data is available.\n",
    "    data : list\n",
    "\n",
    "    The function **MUST**:\n",
    "\n",
    "     - Return when the :data:`stop_event` is set.\n",
    "     - Set :data:`data_ready` event whenever new data is available.\n",
    "    '''\n",
    "    delta_t = dt.timedelta(seconds=.1)\n",
    "    samples_per_plot = 5\n",
    "\n",
    "    while True:\n",
    "        time_0 = dt.datetime.now()\n",
    "        values_i = np.random.rand(samples_per_plot)\n",
    "        absolute_times_i = pd.Series([time_0 + i * delta_t\n",
    "                                      for i in xrange(len(values_i))])\n",
    "        data_i = pd.Series(values_i, index=absolute_times_i)\n",
    "        data.append(data_i)\n",
    "        data_ready.set()\n",
    "        if stop_event.wait(samples_per_plot *\n",
    "                           delta_t.total_seconds()):\n",
    "            break\n",
    "\n",
    "\n",
    "def measure_dialog(f_data, duration_s=None, auto_start=True,\n",
    "                   auto_close=True):\n",
    "    '''\n",
    "    Launch a GTK dialog and plot data \n",
    "    \n",
    "    Parameters\n",
    "    ----------\n",
    "    f_data : function(stop_event, data_ready, data)\n",
    "        Function to run to generate data, e.g., read data from ADC.\n",
    "        \n",
    "        The function is run in its own thread and is provided the following\n",
    "        parameters:\n",
    "        \n",
    "         - :data:`stop_event` : threading.Event\n",
    "         - :data:`data_ready` : threading.Event\n",
    "         - :data:`data` : list\n",
    "         \n",
    "        The function **MUST**:\n",
    "        \n",
    "         - Return when the :data:`stop_event` is set.\n",
    "         - Set :data:`data_ready` event whenever new data is available.\n",
    "    duration_s : float, optional\n",
    "        Length of time to measure for (in seconds).\n",
    "        \n",
    "        If duration is not specified, measure until window is closed or \n",
    "        ``Pause`` button is pressed.\n",
    "    auto_start : bool, optional\n",
    "        Automatically start measuring when the dialog is launched.\n",
    "        \n",
    "        Default is ``True``.\n",
    "    auto_close : bool, optional\n",
    "        If ``duration_s`` is specified, automatically close window once the\n",
    "        measurement duration has passed (unless the ``Pause`` button has been\n",
    "        pressed.\n",
    "        \n",
    "        Default is ``True``.\n",
    "    '''\n",
    "    # `StreamingPlot` class uses threads.  Need to initialize GTK to use\n",
    "    # threads. See [here][1] for more information.\n",
    "    #\n",
    "    # [1]: http://faq.pygtk.org/index.py?req=show&file=faq20.001.htp\n",
    "    gtk.gdk.threads_init()\n",
    "    \n",
    "    with mpl.style.context('seaborn',\n",
    "                           {'image.cmap': 'gray',\n",
    "                            'image.interpolation' : 'none'}):\n",
    "        # Create dialog window to wrap PMT measurement view widget.\n",
    "        dialog = gtk.Dialog()\n",
    "        dialog.set_default_size(800, 600)\n",
    "        view = StreamingPlot(data_func=f_data)\n",
    "        dialog.get_content_area().pack_start(view.widget, True, True)\n",
    "        dialog.connect('check-resize', lambda *args: view.on_resize())\n",
    "        dialog.set_position(gtk.WIN_POS_MOUSE)\n",
    "        dialog.show_all()\n",
    "        view.fig.tight_layout()\n",
    "        if auto_start:\n",
    "            gobject.idle_add(view.start)\n",
    "\n",
    "        def _auto_close(*args):\n",
    "            if not view.stop_event.is_set():\n",
    "                # User did not explicitly pause the measurement.  Automatically\n",
    "                # close the measurement and continue.\n",
    "                dialog.destroy()\n",
    "                \n",
    "        if duration_s is not None:\n",
    "            stop_func = _auto_close if auto_close else view.pause\n",
    "            gobject.timeout_add(duration_s, stop_func)\n",
    "\n",
    "        measurement_complete = threading.Event()\n",
    "\n",
    "        view.widget.connect('destroy', lambda *args: measurement_complete.set())\n",
    "\n",
    "        dialog.run()\n",
    "        dialog.destroy()\n",
    "\n",
    "        measurement_complete.wait()\n",
    "        if view.data:\n",
    "            return pd.concat(view.data)\n",
    "        else:\n",
    "            return None\n",
    "\n",
    "\n",
    "data = measure_dialog(_generate_data, duration_s=5000, auto_close=True)"
   ]
  },
  {
   "cell_type": "code",
   "execution_count": null,
   "metadata": {
    "ExecuteTime": {
     "end_time": "2017-08-04T16:31:02.492000Z",
     "start_time": "2017-08-04T16:31:02.402000Z"
    },
    "collapsed": true
   },
   "outputs": [],
   "source": [
    "view = StreamingPlot(data_func=_generate_data)"
   ]
  },
  {
   "cell_type": "markdown",
   "metadata": {},
   "source": [
    "## Example of how to compress bytes (e.g., JSON) to bzip2"
   ]
  },
  {
   "cell_type": "code",
   "execution_count": null,
   "metadata": {
    "ExecuteTime": {
     "end_time": "2017-08-04T07:04:14.111000Z",
     "start_time": "2017-08-04T07:04:14.080000Z"
    },
    "collapsed": true
   },
   "outputs": [],
   "source": [
    "from IPython.display import display\n",
    "import bz2\n",
    "\n",
    "\n",
    "data = pd.concat(view.data)\n",
    "data_json = data.to_json()\n",
    "data_json_bz2 = bz2.compress(data_json)\n",
    "data_from_json = pd.read_json(bz2.decompress(data_json_bz2), typ='series')\n",
    "len(data_json), len(data_json_bz2)"
   ]
  },
  {
   "cell_type": "markdown",
   "metadata": {},
   "source": [
    "------------------------------------------------------------------------"
   ]
  }
 ],
 "metadata": {
  "kernelspec": {
   "display_name": "Python 2",
   "language": "python",
   "name": "python2"
  },
  "language_info": {
   "codemirror_mode": {
    "name": "ipython",
    "version": 2
   },
   "file_extension": ".py",
   "mimetype": "text/x-python",
   "name": "python",
   "nbconvert_exporter": "python",
   "pygments_lexer": "ipython2",
   "version": "2.7.12"
  },
  "toc": {
   "colors": {
    "hover_highlight": "#DAA520",
    "navigate_num": "#000000",
    "navigate_text": "#333333",
    "running_highlight": "#FF0000",
    "selected_highlight": "#FFD700",
    "sidebar_border": "#EEEEEE",
    "wrapper_background": "#FFFFFF"
   },
   "moveMenuLeft": true,
   "nav_menu": {
    "height": "12px",
    "width": "252px"
   },
   "navigate_menu": true,
   "number_sections": true,
   "sideBar": true,
   "threshold": 4,
   "toc_cell": true,
   "toc_section_display": "block",
   "toc_window_display": true,
   "widenNotebook": false
  }
 },
 "nbformat": 4,
 "nbformat_minor": 2
}
