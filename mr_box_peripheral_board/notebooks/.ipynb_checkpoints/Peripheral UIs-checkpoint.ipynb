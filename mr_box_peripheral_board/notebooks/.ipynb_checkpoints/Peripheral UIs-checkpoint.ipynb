{
 "cells": [
  {
   "cell_type": "markdown",
   "metadata": {
    "toc": "true"
   },
   "source": [
    "# Table of Contents\n",
    " <p><div class=\"lev1 toc-item\"><a href=\"#Z-Stage\" data-toc-modified-id=\"Z-Stage-1\"><span class=\"toc-item-num\">1&nbsp;&nbsp;</span>Z-Stage</a></div><div class=\"lev1 toc-item\"><a href=\"#Pump\" data-toc-modified-id=\"Pump-2\"><span class=\"toc-item-num\">2&nbsp;&nbsp;</span>Pump</a></div><div class=\"lev1 toc-item\"><a href=\"#PMT\" data-toc-modified-id=\"PMT-3\"><span class=\"toc-item-num\">3&nbsp;&nbsp;</span>PMT</a></div><div class=\"lev1 toc-item\"><a href=\"#MAX11210-ADC\" data-toc-modified-id=\"MAX11210-ADC-4\"><span class=\"toc-item-num\">4&nbsp;&nbsp;</span>MAX11210 ADC</a></div>"
   ]
  },
  {
   "cell_type": "code",
   "execution_count": 4,
   "metadata": {
    "ExecuteTime": {
     "end_time": "2017-08-01T21:37:32.727000Z",
     "start_time": "2017-08-01T21:37:27.406000Z"
    }
   },
   "outputs": [
    {
     "name": "stderr",
     "output_type": "stream",
     "text": [
      "DEBUG:base_node_rpc.proxy:Connection unsuccessful on port COM10 after 1 attempts.\n",
      "DEBUG:base_node_rpc.proxy:Connection unsuccessful on port COM10 after 2 attempts.\n",
      "DEBUG:base_node_rpc.proxy:Connection unsuccessful on port COM10 after 3 attempts.\n",
      "DEBUG:base_node_rpc.proxy:Connection unsuccessful on port COM10 after 4 attempts.\n",
      "DEBUG:base_node_rpc.proxy:Connection unsuccessful on port COM10 after 5 attempts.\n",
      "DEBUG:base_node_rpc.proxy:Connection unsuccessful on port COM10 after 6 attempts.\n",
      "Exception AttributeError: \"'SerialProxy' object has no attribute '_packet_watcher'\" in <bound method SerialProxy.__del__ of <mr_box_peripheral_board.proxy.SerialProxy object at 0x03DAA190>> ignored\n"
     ]
    },
    {
     "ename": "IOError",
     "evalue": "Device not found on any port.",
     "output_type": "error",
     "traceback": [
      "\u001b[0;31m---------------------------------------------------------------------------\u001b[0m",
      "\u001b[0;31mIOError\u001b[0m                                   Traceback (most recent call last)",
      "\u001b[0;32m<ipython-input-4-e7d77692d0f2>\u001b[0m in \u001b[0;36m<module>\u001b[0;34m()\u001b[0m\n\u001b[1;32m     14\u001b[0m         \u001b[1;32mpass\u001b[0m\u001b[1;33m\u001b[0m\u001b[0m\n\u001b[1;32m     15\u001b[0m     \u001b[1;32mtry\u001b[0m\u001b[1;33m:\u001b[0m\u001b[1;33m\u001b[0m\u001b[0m\n\u001b[0;32m---> 16\u001b[0;31m         \u001b[0mproxy\u001b[0m \u001b[1;33m=\u001b[0m \u001b[0mmrbox\u001b[0m\u001b[1;33m.\u001b[0m\u001b[0mSerialProxy\u001b[0m\u001b[1;33m(\u001b[0m\u001b[0mbaudrate\u001b[0m\u001b[1;33m=\u001b[0m\u001b[1;36m57600\u001b[0m\u001b[1;33m)\u001b[0m\u001b[1;33m\u001b[0m\u001b[0m\n\u001b[0m\u001b[1;32m     17\u001b[0m         \u001b[1;32mbreak\u001b[0m\u001b[1;33m\u001b[0m\u001b[0m\n\u001b[1;32m     18\u001b[0m     \u001b[1;32mexcept\u001b[0m \u001b[0mserial\u001b[0m\u001b[1;33m.\u001b[0m\u001b[0mSerialException\u001b[0m\u001b[1;33m:\u001b[0m\u001b[1;33m\u001b[0m\u001b[0m\n",
      "\u001b[0;32mC:\\MicroDrop\\lib\\site-packages\\mr_box_peripheral_board\\proxy.pyc\u001b[0m in \u001b[0;36m__init__\u001b[0;34m(self, *args, **kwargs)\u001b[0m\n\u001b[1;32m     68\u001b[0m                 \u001b[0mkwargs\u001b[0m\u001b[1;33m[\u001b[0m\u001b[1;34m'baudrate'\u001b[0m\u001b[1;33m]\u001b[0m \u001b[1;33m=\u001b[0m \u001b[1;36m57600\u001b[0m\u001b[1;33m\u001b[0m\u001b[0m\n\u001b[1;32m     69\u001b[0m \u001b[1;33m\u001b[0m\u001b[0m\n\u001b[0;32m---> 70\u001b[0;31m             \u001b[0msuper\u001b[0m\u001b[1;33m(\u001b[0m\u001b[0mSerialProxy\u001b[0m\u001b[1;33m,\u001b[0m \u001b[0mself\u001b[0m\u001b[1;33m)\u001b[0m\u001b[1;33m.\u001b[0m\u001b[0m__init__\u001b[0m\u001b[1;33m(\u001b[0m\u001b[1;33m*\u001b[0m\u001b[0margs\u001b[0m\u001b[1;33m,\u001b[0m \u001b[1;33m**\u001b[0m\u001b[0mkwargs\u001b[0m\u001b[1;33m)\u001b[0m\u001b[1;33m\u001b[0m\u001b[0m\n\u001b[0m\u001b[1;32m     71\u001b[0m \u001b[1;33m\u001b[0m\u001b[0m\n\u001b[1;32m     72\u001b[0m         \u001b[1;32mdef\u001b[0m \u001b[0mflash_firmware\u001b[0m\u001b[1;33m(\u001b[0m\u001b[0mself\u001b[0m\u001b[1;33m)\u001b[0m\u001b[1;33m:\u001b[0m\u001b[1;33m\u001b[0m\u001b[0m\n",
      "\u001b[0;32mC:\\MicroDrop\\lib\\site-packages\\mr_box_peripheral_board\\proxy.pyc\u001b[0m in \u001b[0;36m__init__\u001b[0;34m(self, *args, **kwargs)\u001b[0m\n\u001b[1;32m     43\u001b[0m \u001b[1;33m\u001b[0m\u001b[0m\n\u001b[1;32m     44\u001b[0m         \u001b[1;32mdef\u001b[0m \u001b[0m__init__\u001b[0m\u001b[1;33m(\u001b[0m\u001b[0mself\u001b[0m\u001b[1;33m,\u001b[0m \u001b[1;33m*\u001b[0m\u001b[0margs\u001b[0m\u001b[1;33m,\u001b[0m \u001b[1;33m**\u001b[0m\u001b[0mkwargs\u001b[0m\u001b[1;33m)\u001b[0m\u001b[1;33m:\u001b[0m\u001b[1;33m\u001b[0m\u001b[0m\n\u001b[0;32m---> 45\u001b[0;31m             \u001b[0msuper\u001b[0m\u001b[1;33m(\u001b[0m\u001b[0mProxyMixin\u001b[0m\u001b[1;33m,\u001b[0m \u001b[0mself\u001b[0m\u001b[1;33m)\u001b[0m\u001b[1;33m.\u001b[0m\u001b[0m__init__\u001b[0m\u001b[1;33m(\u001b[0m\u001b[1;33m*\u001b[0m\u001b[0margs\u001b[0m\u001b[1;33m,\u001b[0m \u001b[1;33m**\u001b[0m\u001b[0mkwargs\u001b[0m\u001b[1;33m)\u001b[0m\u001b[1;33m\u001b[0m\u001b[0m\n\u001b[0m\u001b[1;32m     46\u001b[0m \u001b[1;33m\u001b[0m\u001b[0m\n\u001b[1;32m     47\u001b[0m         \u001b[1;32mdef\u001b[0m \u001b[0mclose\u001b[0m\u001b[1;33m(\u001b[0m\u001b[0mself\u001b[0m\u001b[1;33m)\u001b[0m\u001b[1;33m:\u001b[0m\u001b[1;33m\u001b[0m\u001b[0m\n",
      "\u001b[0;32mC:\\MicroDrop\\lib\\site-packages\\base_node_rpc\\proxy.pyc\u001b[0m in \u001b[0;36m__init__\u001b[0;34m(self, **kwargs)\u001b[0m\n\u001b[1;32m    254\u001b[0m                     \u001b[1;32mraise\u001b[0m\u001b[1;33m\u001b[0m\u001b[0m\n\u001b[1;32m    255\u001b[0m \u001b[1;33m\u001b[0m\u001b[0m\n\u001b[0;32m--> 256\u001b[0;31m         \u001b[1;32mraise\u001b[0m \u001b[0mIOError\u001b[0m\u001b[1;33m(\u001b[0m\u001b[1;34m'Device not found on any port.'\u001b[0m\u001b[1;33m)\u001b[0m\u001b[1;33m\u001b[0m\u001b[0m\n\u001b[0m\u001b[1;32m    257\u001b[0m \u001b[1;33m\u001b[0m\u001b[0m\n\u001b[1;32m    258\u001b[0m \u001b[1;33m\u001b[0m\u001b[0m\n",
      "\u001b[0;31mIOError\u001b[0m: Device not found on any port."
     ]
    }
   ],
   "source": [
    "import logging; logging.basicConfig(level=logging.DEBUG)\n",
    "import time\n",
    "\n",
    "import mr_box_peripheral_board as mrbox\n",
    "import serial\n",
    "reload(mrbox)\n",
    "\n",
    "# Try to connect to MR-Box control board.\n",
    "retry_count = 2\n",
    "for i in xrange(retry_count):\n",
    "    try:\n",
    "        proxy.close()\n",
    "    except NameError:\n",
    "        pass\n",
    "    try:\n",
    "        proxy = mrbox.SerialProxy(baudrate=57600)\n",
    "        break\n",
    "    except serial.SerialException:\n",
    "        time.sleep(1)\n",
    "else:\n",
    "    raise IOError('Could not connect to MR-Box control board.')\n",
    "    \n",
    "proxy._timeout_s = 20"
   ]
  },
  {
   "cell_type": "markdown",
   "metadata": {},
   "source": [
    "# PMT"
   ]
  },
  {
   "cell_type": "code",
   "execution_count": 4,
   "metadata": {
    "ExecuteTime": {
     "end_time": "2017-08-01T21:37:43.477000Z",
     "start_time": "2017-08-01T21:37:43.318000Z"
    },
    "scrolled": false
   },
   "outputs": [
    {
     "data": {
      "application/vnd.jupyter.widget-view+json": {
       "model_id": "88c772da9d5a4cb0bd251603af62e892"
      }
     },
     "metadata": {},
     "output_type": "display_data"
    }
   ],
   "source": [
    "import si_prefix as si\n",
    "\n",
    "from mr_box_peripheral_board import pmt_ui\n",
    "reload(pmt_ui)\n",
    "\n",
    "pmt_ui_ = pmt_ui.PmtUI(proxy)\n",
    "pmt_ui_.widget"
   ]
  },
  {
   "cell_type": "markdown",
   "metadata": {},
   "source": [
    "# MAX11210 ADC"
   ]
  },
  {
   "cell_type": "code",
   "execution_count": 2,
   "metadata": {
    "ExecuteTime": {
     "end_time": "2017-08-01T22:05:16.543000Z",
     "start_time": "2017-08-01T22:05:16.530000Z"
    },
    "collapsed": true,
    "scrolled": false
   },
   "outputs": [],
   "source": [
    "from mr_box_peripheral_board import max11210_adc_ui\n",
    "reload(max11210_adc_ui)\n",
    "\n",
    "# max11210_adc_ui_ = max11210_adc_ui.Max11210AdcUI(proxy)\n",
    "# max11210_adc_ui_.widget\n",
    "\n",
    "import ipywidgets as ipw"
   ]
  },
  {
   "cell_type": "code",
   "execution_count": 3,
   "metadata": {
    "ExecuteTime": {
     "end_time": "2017-08-01T22:04:37.355000Z",
     "start_time": "2017-08-01T22:04:37.341000Z"
    },
    "collapsed": true
   },
   "outputs": [],
   "source": [
    "INPUT_RANGE_UNIPOLAR = 1\n",
    "INPUT_RANGE_BIPOLAR = 2\n",
    "CLOCK_SOURCE_EXTERNAL = 1\n",
    "CLOCK_SOURCE_INTERNAL = 2\n",
    "FORMAT_OFFSET = 1\n",
    "FORMAT_TWOS_COMPLEMENT = 2\n",
    "CONVERSION_MODE_SINGLE = 1\n",
    "CONVERSION_MODE_CONTINUOUS = 2\n",
    "\n",
    "\n",
    "def MAX11210_begin(proxy):\n",
    "    proxy.MAX11210_setDefault();\n",
    "    proxy.MAX11210_setLineFreq(60);  # 60 Hz\n",
    "    proxy.MAX11210_setInputRange(INPUT_RANGE_UNIPOLAR);\n",
    "    proxy.MAX11210_setClockSource(CLOCK_SOURCE_INTERNAL);\n",
    "    proxy.MAX11210_setEnableRefBuf(True);\n",
    "    proxy.MAX11210_setEnableSigBuf(True);\n",
    "    proxy.MAX11210_setFormat(FORMAT_OFFSET);\n",
    "    proxy.MAX11210_setConvMode(CONVERSION_MODE_SINGLE);\n",
    "    proxy.MAX11210_selfCal();\n",
    "    proxy.MAX11210_sysOffsetCal();\n",
    "    proxy.MAX11210_sysGainCal();"
   ]
  },
  {
   "cell_type": "code",
   "execution_count": 7,
   "metadata": {
    "ExecuteTime": {
     "end_time": "2017-08-01T22:05:11.296000Z",
     "start_time": "2017-08-01T22:05:10.409000Z"
    }
   },
   "outputs": [
    {
     "name": "stdout",
     "output_type": "stream",
     "text": [
      "# Calibration settings #\n",
      "\n",
      "SelfCalGain      16777215\n",
      "SelfCalOffset    16777215\n",
      "SysGainCal       16777215\n",
      "SysOffsetCal     16777215\n",
      "dtype: int64\n"
     ]
    }
   ],
   "source": [
    "from collections import OrderedDict\n",
    "import pandas as pd\n",
    "\n",
    "MAX11210_begin(proxy)\n",
    "calibration_settings = \\\n",
    "    pd.Series(OrderedDict([('SelfCalGain', proxy.MAX11210_getSelfCalGain()),\n",
    "                           ('SelfCalOffset', proxy.MAX11210_getSelfCalOffset()),\n",
    "                           ('SysGainCal', proxy.MAX11210_getSysGainCal()),\n",
    "                           ('SysOffsetCal', proxy.MAX11210_getSysOffsetCal())]))\n",
    "print '# Calibration settings #\\n'\n",
    "print calibration_settings"
   ]
  },
  {
   "cell_type": "code",
   "execution_count": 11,
   "metadata": {},
   "outputs": [
    {
     "name": "stdout",
     "output_type": "stream",
     "text": [
      "# Register statuses #\n",
      "\n",
      "----- STAT1 -----\n",
      "Gain Over Range: True\n",
      "Sampling Rate: 120 Samples/sec\n",
      "Input Signal Over Max: True\n",
      "Input Signal Under Min: True\n",
      "Modulator Status: Busy\n",
      "ADC Status: Ready\n",
      "\n",
      "\n",
      "----- CTRL1 -----\n",
      "Line frequency: 50Hz\n",
      "Input Range: Unipolar (Positive Only)\n",
      "Clock: External\n",
      "Refference Buffer: On\n",
      "Signal Buffer: On\n",
      "Format: Offset\n",
      "Cycle: Single\n",
      "\n",
      "\n",
      "----- CTRL3 -----\n",
      "Digital Gain: X2\n",
      "System Gain: Disabled\n",
      "System Offset: Disabled\n",
      "Self-calibration Gain: Disabled\n",
      "Self-calibration Offset: Disabled\n",
      "\n"
     ]
    }
   ],
   "source": [
    "print '# Register statuses #\\n'\n",
    "print '----- STAT1 -----\\n' + max11210_adc_ui.format_STAT1(proxy.MAX11210_getSTAT1()) + '\\n'\n",
    "print '----- CTRL1 -----\\n' + max11210_adc_ui.format_CTRL1(proxy.MAX11210_getCTRL1()) + '\\n'\n",
    "# print '----- CTRL2 -----\\n' + str(format(proxy.MAX11210_getCTRL2(),'b')) + '\\n'\n",
    "print '----- CTRL3 -----\\n' + max11210_adc_ui.format_CTRL3(proxy.MAX11210_getCTRL3())"
   ]
  },
  {
   "cell_type": "code",
   "execution_count": 6,
   "metadata": {
    "ExecuteTime": {
     "end_time": "2017-08-01T22:26:47.044000Z",
     "start_time": "2017-08-01T22:26:46.980000Z"
    },
    "scrolled": false
   },
   "outputs": [
    {
     "data": {
      "application/vnd.jupyter.widget-view+json": {
       "model_id": "98ca0934df764d24af69724f7f5a2efb"
      }
     },
     "metadata": {},
     "output_type": "display_data"
    },
    {
     "ename": "IOError",
     "evalue": "Did not receive response.",
     "output_type": "error",
     "traceback": [
      "\u001b[1;31m---------------------------------------------------------------------------\u001b[0m",
      "\u001b[1;31mIOError\u001b[0m                                   Traceback (most recent call last)",
      "\u001b[1;32m<ipython-input-6-5cd268304cc2>\u001b[0m in \u001b[0;36m_pmt_read\u001b[1;34m(*args)\u001b[0m\n\u001b[0;32m     16\u001b[0m \u001b[1;31m#     proxy.MAX11210_setConvMode(CONVERSION_MODE_SINGLE)\u001b[0m\u001b[1;33m\u001b[0m\u001b[1;33m\u001b[0m\u001b[0m\n\u001b[0;32m     17\u001b[0m     \u001b[0mproxy\u001b[0m\u001b[1;33m.\u001b[0m\u001b[0mMAX11210_setGain\u001b[0m\u001b[1;33m(\u001b[0m\u001b[0madc_gain\u001b[0m\u001b[1;33m.\u001b[0m\u001b[0mvalue\u001b[0m\u001b[1;33m)\u001b[0m\u001b[1;33m\u001b[0m\u001b[0m\n\u001b[1;32m---> 18\u001b[1;33m     \u001b[0mraw_values\u001b[0m \u001b[1;33m=\u001b[0m \u001b[0mmax11210_adc_ui\u001b[0m\u001b[1;33m.\u001b[0m\u001b[0mMAX11210_read\u001b[0m\u001b[1;33m(\u001b[0m\u001b[0mproxy\u001b[0m\u001b[1;33m,\u001b[0m \u001b[0mpmt_rate\u001b[0m\u001b[1;33m.\u001b[0m\u001b[0mvalue\u001b[0m\u001b[1;33m,\u001b[0m \u001b[0mpmt_duration\u001b[0m\u001b[1;33m.\u001b[0m\u001b[0mvalue\u001b[0m\u001b[1;33m)\u001b[0m\u001b[1;33m\u001b[0m\u001b[0m\n\u001b[0m\u001b[0;32m     19\u001b[0m     \u001b[1;32mprint\u001b[0m \u001b[1;34m'Sampling Rate: '\u001b[0m \u001b[1;33m+\u001b[0m \u001b[0mstr\u001b[0m\u001b[1;33m(\u001b[0m\u001b[0mpmt_rate\u001b[0m\u001b[1;33m.\u001b[0m\u001b[0mvalue\u001b[0m\u001b[1;33m)\u001b[0m \u001b[1;33m+\u001b[0m \u001b[1;34m' Hz'\u001b[0m\u001b[1;33m\u001b[0m\u001b[0m\n\u001b[0;32m     20\u001b[0m     \u001b[1;32mprint\u001b[0m \u001b[1;34m'Digital Gain: '\u001b[0m \u001b[1;33m+\u001b[0m \u001b[0mstr\u001b[0m\u001b[1;33m(\u001b[0m\u001b[0madc_gain\u001b[0m\u001b[1;33m.\u001b[0m\u001b[0mvalue\u001b[0m\u001b[1;33m)\u001b[0m\u001b[1;33m\u001b[0m\u001b[0m\n",
      "\u001b[1;32mC:\\Users\\Wheeler\\Desktop\\mr-box-peripheral-board.py\\mr_box_peripheral_board\\max11210_adc_ui.pyc\u001b[0m in \u001b[0;36mMAX11210_read\u001b[1;34m(proxy, rate, duration_s)\u001b[0m\n\u001b[0;32m    201\u001b[0m             \u001b[0mreadings\u001b[0m\u001b[1;33m.\u001b[0m\u001b[0mappend\u001b[0m\u001b[1;33m(\u001b[0m\u001b[0mreading_i\u001b[0m\u001b[1;33m)\u001b[0m\u001b[1;33m\u001b[0m\u001b[0m\n\u001b[0;32m    202\u001b[0m     \u001b[1;32mfinally\u001b[0m\u001b[1;33m:\u001b[0m\u001b[1;33m\u001b[0m\u001b[0m\n\u001b[1;32m--> 203\u001b[1;33m         \u001b[0mproxy\u001b[0m\u001b[1;33m.\u001b[0m\u001b[0mpmt_close_shutter\u001b[0m\u001b[1;33m(\u001b[0m\u001b[1;33m)\u001b[0m\u001b[1;33m\u001b[0m\u001b[0m\n\u001b[0m\u001b[0;32m    204\u001b[0m     \u001b[1;32mreturn\u001b[0m \u001b[0mpd\u001b[0m\u001b[1;33m.\u001b[0m\u001b[0mSeries\u001b[0m\u001b[1;33m(\u001b[0m\u001b[0mreadings\u001b[0m\u001b[1;33m,\u001b[0m \u001b[0mindex\u001b[0m\u001b[1;33m=\u001b[0m\u001b[0mtimestamps\u001b[0m\u001b[1;33m)\u001b[0m\u001b[1;33m\u001b[0m\u001b[0m\n\u001b[0;32m    205\u001b[0m \u001b[1;33m\u001b[0m\u001b[0m\n",
      "\u001b[1;32mC:\\Users\\Wheeler\\Desktop\\mr-box-peripheral-board.py\\mr_box_peripheral_board\\node.pyc\u001b[0m in \u001b[0;36mpmt_close_shutter\u001b[1;34m(self)\u001b[0m\n\u001b[0;32m    695\u001b[0m         \u001b[0mpayload_data\u001b[0m \u001b[1;33m=\u001b[0m \u001b[0mcommand\u001b[0m\u001b[1;33m.\u001b[0m\u001b[0mtostring\u001b[0m\u001b[1;33m(\u001b[0m\u001b[1;33m)\u001b[0m \u001b[1;33m+\u001b[0m \u001b[0mpayload_data\u001b[0m\u001b[1;33m\u001b[0m\u001b[0m\n\u001b[0;32m    696\u001b[0m         \u001b[0mpacket\u001b[0m \u001b[1;33m=\u001b[0m \u001b[0mcPacket\u001b[0m\u001b[1;33m(\u001b[0m\u001b[0mdata\u001b[0m\u001b[1;33m=\u001b[0m\u001b[0mpayload_data\u001b[0m\u001b[1;33m,\u001b[0m \u001b[0mtype_\u001b[0m\u001b[1;33m=\u001b[0m\u001b[0mPACKET_TYPES\u001b[0m\u001b[1;33m.\u001b[0m\u001b[0mDATA\u001b[0m\u001b[1;33m)\u001b[0m\u001b[1;33m\u001b[0m\u001b[0m\n\u001b[1;32m--> 697\u001b[1;33m         \u001b[0mresponse\u001b[0m \u001b[1;33m=\u001b[0m \u001b[0mself\u001b[0m\u001b[1;33m.\u001b[0m\u001b[0m_send_command\u001b[0m\u001b[1;33m(\u001b[0m\u001b[0mpacket\u001b[0m\u001b[1;33m)\u001b[0m\u001b[1;33m\u001b[0m\u001b[0m\n\u001b[0m\u001b[0;32m    698\u001b[0m \u001b[1;33m\u001b[0m\u001b[0m\n\u001b[0;32m    699\u001b[0m \u001b[1;33m\u001b[0m\u001b[0m\n",
      "\u001b[1;32mC:\\MicroDrop\\lib\\site-packages\\base_node_rpc\\proxy.pyc\u001b[0m in \u001b[0;36m_send_command\u001b[1;34m(self, packet, timeout_s, poll)\u001b[0m\n\u001b[0;32m    350\u001b[0m                                             timeout_s=timeout_s, poll=poll))\n\u001b[0;32m    351\u001b[0m         \u001b[1;32mexcept\u001b[0m \u001b[0mQueue\u001b[0m\u001b[1;33m.\u001b[0m\u001b[0mEmpty\u001b[0m\u001b[1;33m:\u001b[0m\u001b[1;33m\u001b[0m\u001b[0m\n\u001b[1;32m--> 352\u001b[1;33m             \u001b[1;32mraise\u001b[0m \u001b[0mIOError\u001b[0m\u001b[1;33m(\u001b[0m\u001b[1;34m'Did not receive response.'\u001b[0m\u001b[1;33m)\u001b[0m\u001b[1;33m\u001b[0m\u001b[0m\n\u001b[0m\u001b[0;32m    353\u001b[0m         \u001b[1;32mreturn\u001b[0m \u001b[0mresponse\u001b[0m\u001b[1;33m\u001b[0m\u001b[0m\n\u001b[0;32m    354\u001b[0m \u001b[1;33m\u001b[0m\u001b[0m\n",
      "\u001b[1;31mIOError\u001b[0m: Did not receive response."
     ]
    }
   ],
   "source": [
    "%matplotlib inline\n",
    "import datetime as dt\n",
    "\n",
    "import matplotlib as mpl\n",
    "import matplotlib.ticker\n",
    "import si_prefix as si\n",
    "from IPython.display import display\n",
    "\n",
    "\n",
    "formatter = mpl.ticker.FuncFormatter(lambda x, *args: si.si_format(x, 3))\n",
    "\n",
    "Vref = 3.0 #Reference Voltage 3.0 V\n",
    "\n",
    "def _pmt_read(*args):\n",
    "    \n",
    "#     proxy.MAX11210_setConvMode(CONVERSION_MODE_SINGLE)\n",
    "    proxy.MAX11210_setGain(adc_gain.value)\n",
    "    raw_values = max11210_adc_ui.MAX11210_read(proxy, pmt_rate.value, pmt_duration.value)\n",
    "    print 'Sampling Rate: ' + str(pmt_rate.value) + ' Hz'\n",
    "    print 'Digital Gain: ' + str(adc_gain.value)\n",
    "    voltage = (raw_values / (2 ** 24 - 1))*(Vref/adc_gain.value)\n",
    "    current = voltage / 30e3  # 30 kOhm\n",
    "    \n",
    "    current.to_clipboard()\n",
    "    \n",
    "    axis = current.plot()\n",
    "    axis.yaxis.set_major_formatter(formatter)\n",
    "\n",
    "    \n",
    "pmt_rate = ipw.Dropdown(description='Sample rate (Hz)',\n",
    "                        options=(1, 2, 5, 10, 15, 30, 60, 120), value=1)\n",
    "adc_gain = ipw.Dropdown(description='Digital Gain',\n",
    "                        options=(OrderedDict([('X1',1),('X2',2),('X4',4),('X8',8),('X16',16)])), value=1)\n",
    "pmt_duration = ipw.FloatSlider(description='PMT duration (s)', min=1,\n",
    "                               max=1000, value=10)\n",
    "\n",
    "pmt_read = ipw.Button(description='Read PMT')\n",
    "pmt_read.on_click(_pmt_read)\n",
    "\n",
    "ipw.VBox([pmt_rate,adc_gain, pmt_duration, pmt_read])"
   ]
  },
  {
   "cell_type": "code",
   "execution_count": null,
   "metadata": {
    "collapsed": true
   },
   "outputs": [],
   "source": []
  }
 ],
 "metadata": {
  "kernelspec": {
   "display_name": "Python 2",
   "language": "python",
   "name": "python2"
  },
  "language_info": {
   "codemirror_mode": {
    "name": "ipython",
    "version": 2
   },
   "file_extension": ".py",
   "mimetype": "text/x-python",
   "name": "python",
   "nbconvert_exporter": "python",
   "pygments_lexer": "ipython2",
   "version": "2.7.12"
  },
  "toc": {
   "colors": {
    "hover_highlight": "#DAA520",
    "navigate_num": "#000000",
    "navigate_text": "#333333",
    "running_highlight": "#FF0000",
    "selected_highlight": "#FFD700",
    "sidebar_border": "#EEEEEE",
    "wrapper_background": "#FFFFFF"
   },
   "moveMenuLeft": true,
   "nav_menu": {
    "height": "12px",
    "width": "252px"
   },
   "navigate_menu": true,
   "number_sections": true,
   "sideBar": true,
   "threshold": 4,
   "toc_cell": true,
   "toc_position": {
    "height": "172px",
    "left": "0px",
    "right": "883px",
    "top": "106px",
    "width": "183px"
   },
   "toc_section_display": "block",
   "toc_window_display": true,
   "widenNotebook": false
  },
  "widgets": {
   "application/vnd.jupyter.widget-state+json": {
    "state": {
     "01d30edd6a6e4d32bafbd6ddcb29623d": {
      "model_module": "jupyter-js-widgets",
      "model_module_version": "~2.1.4",
      "model_name": "LayoutModel",
      "state": {
       "_model_module_version": "~2.1.4",
       "_view_module_version": "~2.1.4"
      }
     },
     "051da1ac059444bb8e294cc329cc219e": {
      "model_module": "jupyter-js-widgets",
      "model_module_version": "~2.1.4",
      "model_name": "RadioButtonsModel",
      "state": {
       "_model_module_version": "~2.1.4",
       "_options_labels": [
        "down",
        "up"
       ],
       "_view_module_version": "~2.1.4",
       "layout": "IPY_MODEL_99da0573f89748b3b5e8dce00b9fa1dc",
       "value": "down"
      }
     },
     "085b162571a943c4ba4f591db32f593a": {
      "model_module": "jupyter-js-widgets",
      "model_module_version": "~2.1.4",
      "model_name": "LayoutModel",
      "state": {
       "_model_module_version": "~2.1.4",
       "_view_module_version": "~2.1.4"
      }
     },
     "09060f2bef9d40d2a25455705aff7f4c": {
      "model_module": "jupyter-js-widgets",
      "model_module_version": "~2.1.4",
      "model_name": "FloatSliderModel",
      "state": {
       "_model_module_version": "~2.1.4",
       "_range": true,
       "_view_module_version": "~2.1.4",
       "description": "position range:",
       "layout": "IPY_MODEL_01d30edd6a6e4d32bafbd6ddcb29623d",
       "max": 11,
       "step": 0.1,
       "value": [
        0,
        10.1
       ]
      }
     },
     "0d84c1c98fd74335a62f30ed5cbbb39f": {
      "model_module": "jupyter-js-widgets",
      "model_module_version": "~2.1.4",
      "model_name": "LayoutModel",
      "state": {
       "_model_module_version": "~2.1.4",
       "_view_module_version": "~2.1.4"
      }
     },
     "117f3554c27f40078c90ad91f9b2823f": {
      "model_module": "jupyter-js-widgets",
      "model_module_version": "~2.1.4",
      "model_name": "LayoutModel",
      "state": {
       "_model_module_version": "~2.1.4",
       "_view_module_version": "~2.1.4"
      }
     },
     "153bb8248f534fba8f855e77029d70d9": {
      "model_module": "jupyter-js-widgets",
      "model_module_version": "~2.1.4",
      "model_name": "LayoutModel",
      "state": {
       "_model_module_version": "~2.1.4",
       "_view_module_version": "~2.1.4"
      }
     },
     "2210a321f17e47b79f2f5c7119b973db": {
      "model_module": "jupyter-js-widgets",
      "model_module_version": "~2.1.4",
      "model_name": "ButtonStyleModel",
      "state": {
       "_model_module_version": "~2.1.4",
       "_view_module_version": "~2.1.4"
      }
     },
     "25d25ef89d234ac98bdbdd2c07c1ab52": {
      "model_module": "jupyter-js-widgets",
      "model_module_version": "~2.1.4",
      "model_name": "LayoutModel",
      "state": {
       "_model_module_version": "~2.1.4",
       "_view_module_version": "~2.1.4"
      }
     },
     "371a7704e73740638cce126f242aa2cd": {
      "model_module": "jupyter-js-widgets",
      "model_module_version": "~2.1.4",
      "model_name": "ButtonModel",
      "state": {
       "_model_module_version": "~2.1.4",
       "_view_module_version": "~2.1.4",
       "description": "Home",
       "layout": "IPY_MODEL_3e81da7e4c284aa39e635c7b05560dd6",
       "style": "IPY_MODEL_55b522671a5842acb2fac27824a33468"
      }
     },
     "3e81da7e4c284aa39e635c7b05560dd6": {
      "model_module": "jupyter-js-widgets",
      "model_module_version": "~2.1.4",
      "model_name": "LayoutModel",
      "state": {
       "_model_module_version": "~2.1.4",
       "_view_module_version": "~2.1.4"
      }
     },
     "4088252e21e241c49f1fae97181673d2": {
      "model_module": "jupyter-js-widgets",
      "model_module_version": "~2.1.4",
      "model_name": "LayoutModel",
      "state": {
       "_model_module_version": "~2.1.4",
       "_view_module_version": "~2.1.4"
      }
     },
     "4de8d247f65a48ef909c3d215120e857": {
      "model_module": "jupyter-js-widgets",
      "model_module_version": "~2.1.4",
      "model_name": "RadioButtonsModel",
      "state": {
       "_model_module_version": "~2.1.4",
       "_options_labels": [
        "down",
        "up"
       ],
       "_view_module_version": "~2.1.4",
       "layout": "IPY_MODEL_fe8b9118be80434aaf8a85646d7f071b",
       "value": "down"
      }
     },
     "55b522671a5842acb2fac27824a33468": {
      "model_module": "jupyter-js-widgets",
      "model_module_version": "~2.1.4",
      "model_name": "ButtonStyleModel",
      "state": {
       "_model_module_version": "~2.1.4",
       "_view_module_version": "~2.1.4"
      }
     },
     "5f5f8eddacd642988d3ed076cd3991cc": {
      "model_module": "jupyter-js-widgets",
      "model_module_version": "~2.1.4",
      "model_name": "ButtonStyleModel",
      "state": {
       "_model_module_version": "~2.1.4",
       "_view_module_version": "~2.1.4"
      }
     },
     "6bb8f4d687094325a113ee0588d09eba": {
      "model_module": "jupyter-js-widgets",
      "model_module_version": "~2.1.4",
      "model_name": "ButtonStyleModel",
      "state": {
       "_model_module_version": "~2.1.4",
       "_view_module_version": "~2.1.4"
      }
     },
     "6cdf61efe7b345b3a6820918fded7982": {
      "model_module": "jupyter-js-widgets",
      "model_module_version": "~2.1.4",
      "model_name": "LayoutModel",
      "state": {
       "_model_module_version": "~2.1.4",
       "_view_module_version": "~2.1.4"
      }
     },
     "70e3e2898f074eeeb8cafe41bf27b02e": {
      "model_module": "jupyter-js-widgets",
      "model_module_version": "~2.1.4",
      "model_name": "HBoxModel",
      "state": {
       "_model_module_version": "~2.1.4",
       "_view_module_version": "~2.1.4",
       "children": [
        "IPY_MODEL_8676d783d4334657873cf0237edd039a",
        "IPY_MODEL_ed22a06bf5874550bfc4ca106bd96b19"
       ],
       "layout": "IPY_MODEL_8d2c9ef0325f464fb7b58d76cb695081"
      }
     },
     "7b978751138743e6a1908a7e04bb9dfb": {
      "model_module": "jupyter-js-widgets",
      "model_module_version": "~2.1.4",
      "model_name": "ButtonModel",
      "state": {
       "_model_module_version": "~2.1.4",
       "_view_module_version": "~2.1.4",
       "description": "Home",
       "layout": "IPY_MODEL_caec7c8f0ad449b8a3f01808a71a122d",
       "style": "IPY_MODEL_2210a321f17e47b79f2f5c7119b973db"
      }
     },
     "7d2bf41b23d745239ddd9157f09cb62d": {
      "model_module": "jupyter-js-widgets",
      "model_module_version": "~2.1.4",
      "model_name": "LayoutModel",
      "state": {
       "_model_module_version": "~2.1.4",
       "_view_module_version": "~2.1.4"
      }
     },
     "819343797e9d4b69b91cbdf547b32436": {
      "model_module": "jupyter-js-widgets",
      "model_module_version": "~2.1.4",
      "model_name": "RadioButtonsModel",
      "state": {
       "_model_module_version": "~2.1.4",
       "_options_labels": [
        "down",
        "up"
       ],
       "_view_module_version": "~2.1.4",
       "layout": "IPY_MODEL_ef05a75b1d3849eaa1edb68cd0216dcd",
       "value": "up"
      }
     },
     "8676d783d4334657873cf0237edd039a": {
      "model_module": "jupyter-js-widgets",
      "model_module_version": "~2.1.4",
      "model_name": "FloatSliderModel",
      "state": {
       "_model_module_version": "~2.1.4",
       "_range": true,
       "_view_module_version": "~2.1.4",
       "description": "position range:",
       "layout": "IPY_MODEL_4088252e21e241c49f1fae97181673d2",
       "max": 11,
       "step": 0.1,
       "value": [
        0,
        10.100000381469727
       ]
      }
     },
     "8ce4e0c34dac4c0c876e5d905609e66d": {
      "model_module": "jupyter-js-widgets",
      "model_module_version": "~2.1.4",
      "model_name": "HBoxModel",
      "state": {
       "_model_module_version": "~2.1.4",
       "_view_module_version": "~2.1.4",
       "children": [
        "IPY_MODEL_9fa3ff12656440f89c0d26a23d80aa6f",
        "IPY_MODEL_d98e88668324439f8ed15558a454a4a0"
       ],
       "layout": "IPY_MODEL_caa75e1cf2ac40698bcc377a05fd1511"
      }
     },
     "8d2c9ef0325f464fb7b58d76cb695081": {
      "model_module": "jupyter-js-widgets",
      "model_module_version": "~2.1.4",
      "model_name": "LayoutModel",
      "state": {
       "_model_module_version": "~2.1.4",
       "_view_module_version": "~2.1.4"
      }
     },
     "99833535f6044b6ca621bb6c9ce0dc8f": {
      "model_module": "jupyter-js-widgets",
      "model_module_version": "~2.1.4",
      "model_name": "LayoutModel",
      "state": {
       "_model_module_version": "~2.1.4",
       "_view_module_version": "~2.1.4"
      }
     },
     "99da0573f89748b3b5e8dce00b9fa1dc": {
      "model_module": "jupyter-js-widgets",
      "model_module_version": "~2.1.4",
      "model_name": "LayoutModel",
      "state": {
       "_model_module_version": "~2.1.4",
       "_view_module_version": "~2.1.4"
      }
     },
     "9ae3d044f3c84808bf497f02b59cce34": {
      "model_module": "jupyter-js-widgets",
      "model_module_version": "~2.1.4",
      "model_name": "LayoutModel",
      "state": {
       "_model_module_version": "~2.1.4",
       "_view_module_version": "~2.1.4"
      }
     },
     "9dc20bc7900146eabac8384f9ee4d7f2": {
      "model_module": "jupyter-js-widgets",
      "model_module_version": "~2.1.4",
      "model_name": "VBoxModel",
      "state": {
       "_model_module_version": "~2.1.4",
       "_view_module_version": "~2.1.4",
       "children": [
        "IPY_MODEL_ddf612c9b61345dfa857b06a9e83cf64",
        "IPY_MODEL_9f6081a1daf241bb8248d111873ac27e",
        "IPY_MODEL_e4af45d006824aa090c04e94bfd1e435"
       ],
       "layout": "IPY_MODEL_ded72521c8cd49e6a181c12a3a06fb9d"
      }
     },
     "9f6081a1daf241bb8248d111873ac27e": {
      "model_module": "jupyter-js-widgets",
      "model_module_version": "~2.1.4",
      "model_name": "FloatSliderModel",
      "state": {
       "_model_module_version": "~2.1.4",
       "_range": true,
       "_view_module_version": "~2.1.4",
       "description": "position range:",
       "layout": "IPY_MODEL_0d84c1c98fd74335a62f30ed5cbbb39f",
       "max": 11,
       "step": 0.1,
       "value": [
        0,
        8.4
       ]
      }
     },
     "9fa3ff12656440f89c0d26a23d80aa6f": {
      "model_module": "jupyter-js-widgets",
      "model_module_version": "~2.1.4",
      "model_name": "FloatSliderModel",
      "state": {
       "_model_module_version": "~2.1.4",
       "_range": true,
       "_view_module_version": "~2.1.4",
       "description": "position range:",
       "layout": "IPY_MODEL_6cdf61efe7b345b3a6820918fded7982",
       "max": 11,
       "step": 0.1,
       "value": [
        0,
        10.1
       ]
      }
     },
     "a195166f4b9c4dd1a696a33e89069208": {
      "model_module": "jupyter-js-widgets",
      "model_module_version": "~2.1.4",
      "model_name": "VBoxModel",
      "state": {
       "_model_module_version": "~2.1.4",
       "_view_module_version": "~2.1.4",
       "children": [
        "IPY_MODEL_7b978751138743e6a1908a7e04bb9dfb",
        "IPY_MODEL_8ce4e0c34dac4c0c876e5d905609e66d",
        "IPY_MODEL_819343797e9d4b69b91cbdf547b32436"
       ],
       "layout": "IPY_MODEL_085b162571a943c4ba4f591db32f593a"
      }
     },
     "ba047fb199e74fa3bd34e9930bd5c31a": {
      "model_module": "jupyter-js-widgets",
      "model_module_version": "~2.1.4",
      "model_name": "LayoutModel",
      "state": {
       "_model_module_version": "~2.1.4",
       "_view_module_version": "~2.1.4"
      }
     },
     "bd6f462a53b44ce69e5c60b9625f05d4": {
      "model_module": "jupyter-js-widgets",
      "model_module_version": "~2.1.4",
      "model_name": "LayoutModel",
      "state": {
       "_model_module_version": "~2.1.4",
       "_view_module_version": "~2.1.4"
      }
     },
     "c70fbe1b02c54db99f5292ad22a41dae": {
      "model_module": "jupyter-js-widgets",
      "model_module_version": "~2.1.4",
      "model_name": "ButtonStyleModel",
      "state": {
       "_model_module_version": "~2.1.4",
       "_view_module_version": "~2.1.4"
      }
     },
     "c87b5d1709da46a998c5731a2d831fe7": {
      "model_module": "jupyter-js-widgets",
      "model_module_version": "~2.1.4",
      "model_name": "VBoxModel",
      "state": {
       "_model_module_version": "~2.1.4",
       "_view_module_version": "~2.1.4",
       "children": [
        "IPY_MODEL_371a7704e73740638cce126f242aa2cd",
        "IPY_MODEL_f0a137b8a100453ca7cf1edb81d4c0de",
        "IPY_MODEL_4de8d247f65a48ef909c3d215120e857"
       ],
       "layout": "IPY_MODEL_153bb8248f534fba8f855e77029d70d9"
      }
     },
     "caa75e1cf2ac40698bcc377a05fd1511": {
      "model_module": "jupyter-js-widgets",
      "model_module_version": "~2.1.4",
      "model_name": "LayoutModel",
      "state": {
       "_model_module_version": "~2.1.4",
       "_view_module_version": "~2.1.4"
      }
     },
     "caec7c8f0ad449b8a3f01808a71a122d": {
      "model_module": "jupyter-js-widgets",
      "model_module_version": "~2.1.4",
      "model_name": "LayoutModel",
      "state": {
       "_model_module_version": "~2.1.4",
       "_view_module_version": "~2.1.4"
      }
     },
     "cc72c48fa13c4b9f9f92e1571d6ef1a4": {
      "model_module": "jupyter-js-widgets",
      "model_module_version": "~2.1.4",
      "model_name": "ButtonModel",
      "state": {
       "_model_module_version": "~2.1.4",
       "_view_module_version": "~2.1.4",
       "description": "Save end positions",
       "layout": "IPY_MODEL_25d25ef89d234ac98bdbdd2c07c1ab52",
       "style": "IPY_MODEL_d2d5de98e9ce485ba7bf1d024e4bb52f"
      }
     },
     "d2d5de98e9ce485ba7bf1d024e4bb52f": {
      "model_module": "jupyter-js-widgets",
      "model_module_version": "~2.1.4",
      "model_name": "ButtonStyleModel",
      "state": {
       "_model_module_version": "~2.1.4",
       "_view_module_version": "~2.1.4"
      }
     },
     "d98e88668324439f8ed15558a454a4a0": {
      "model_module": "jupyter-js-widgets",
      "model_module_version": "~2.1.4",
      "model_name": "ButtonModel",
      "state": {
       "_model_module_version": "~2.1.4",
       "_view_module_version": "~2.1.4",
       "description": "Save end positions",
       "layout": "IPY_MODEL_9ae3d044f3c84808bf497f02b59cce34",
       "style": "IPY_MODEL_5f5f8eddacd642988d3ed076cd3991cc"
      }
     },
     "dc3ee63401464f0d8ba03e34cec13560": {
      "model_module": "jupyter-js-widgets",
      "model_module_version": "~2.1.4",
      "model_name": "LayoutModel",
      "state": {
       "_model_module_version": "~2.1.4",
       "_view_module_version": "~2.1.4"
      }
     },
     "ddf612c9b61345dfa857b06a9e83cf64": {
      "model_module": "jupyter-js-widgets",
      "model_module_version": "~2.1.4",
      "model_name": "ButtonModel",
      "state": {
       "_model_module_version": "~2.1.4",
       "_view_module_version": "~2.1.4",
       "description": "Home",
       "layout": "IPY_MODEL_bd6f462a53b44ce69e5c60b9625f05d4",
       "style": "IPY_MODEL_e6c732458dcb485e9cb5b96a5b568c69"
      }
     },
     "ded72521c8cd49e6a181c12a3a06fb9d": {
      "model_module": "jupyter-js-widgets",
      "model_module_version": "~2.1.4",
      "model_name": "LayoutModel",
      "state": {
       "_model_module_version": "~2.1.4",
       "_view_module_version": "~2.1.4"
      }
     },
     "e3a9e2b9fd0249478de4e0247ca47f8a": {
      "model_module": "jupyter-js-widgets",
      "model_module_version": "~2.1.4",
      "model_name": "ButtonModel",
      "state": {
       "_model_module_version": "~2.1.4",
       "_view_module_version": "~2.1.4",
       "description": "Home",
       "layout": "IPY_MODEL_99833535f6044b6ca621bb6c9ce0dc8f",
       "style": "IPY_MODEL_6bb8f4d687094325a113ee0588d09eba"
      }
     },
     "e4af45d006824aa090c04e94bfd1e435": {
      "model_module": "jupyter-js-widgets",
      "model_module_version": "~2.1.4",
      "model_name": "RadioButtonsModel",
      "state": {
       "_model_module_version": "~2.1.4",
       "_options_labels": [
        "down",
        "up"
       ],
       "_view_module_version": "~2.1.4",
       "layout": "IPY_MODEL_7d2bf41b23d745239ddd9157f09cb62d",
       "value": "up"
      }
     },
     "e52519d0b2744e2faafea52959ea09b8": {
      "model_module": "jupyter-js-widgets",
      "model_module_version": "~2.1.4",
      "model_name": "VBoxModel",
      "state": {
       "_model_module_version": "~2.1.4",
       "_view_module_version": "~2.1.4",
       "children": [
        "IPY_MODEL_e3a9e2b9fd0249478de4e0247ca47f8a",
        "IPY_MODEL_70e3e2898f074eeeb8cafe41bf27b02e",
        "IPY_MODEL_051da1ac059444bb8e294cc329cc219e"
       ],
       "layout": "IPY_MODEL_ba047fb199e74fa3bd34e9930bd5c31a"
      }
     },
     "e6c732458dcb485e9cb5b96a5b568c69": {
      "model_module": "jupyter-js-widgets",
      "model_module_version": "~2.1.4",
      "model_name": "ButtonStyleModel",
      "state": {
       "_model_module_version": "~2.1.4",
       "_view_module_version": "~2.1.4"
      }
     },
     "ed22a06bf5874550bfc4ca106bd96b19": {
      "model_module": "jupyter-js-widgets",
      "model_module_version": "~2.1.4",
      "model_name": "ButtonModel",
      "state": {
       "_model_module_version": "~2.1.4",
       "_view_module_version": "~2.1.4",
       "description": "Save end positions",
       "layout": "IPY_MODEL_dc3ee63401464f0d8ba03e34cec13560",
       "style": "IPY_MODEL_c70fbe1b02c54db99f5292ad22a41dae"
      }
     },
     "ef05a75b1d3849eaa1edb68cd0216dcd": {
      "model_module": "jupyter-js-widgets",
      "model_module_version": "~2.1.4",
      "model_name": "LayoutModel",
      "state": {
       "_model_module_version": "~2.1.4",
       "_view_module_version": "~2.1.4"
      }
     },
     "f0a137b8a100453ca7cf1edb81d4c0de": {
      "model_module": "jupyter-js-widgets",
      "model_module_version": "~2.1.4",
      "model_name": "HBoxModel",
      "state": {
       "_model_module_version": "~2.1.4",
       "_view_module_version": "~2.1.4",
       "children": [
        "IPY_MODEL_09060f2bef9d40d2a25455705aff7f4c",
        "IPY_MODEL_cc72c48fa13c4b9f9f92e1571d6ef1a4"
       ],
       "layout": "IPY_MODEL_117f3554c27f40078c90ad91f9b2823f"
      }
     },
     "fe8b9118be80434aaf8a85646d7f071b": {
      "model_module": "jupyter-js-widgets",
      "model_module_version": "~2.1.4",
      "model_name": "LayoutModel",
      "state": {
       "_model_module_version": "~2.1.4",
       "_view_module_version": "~2.1.4"
      }
     }
    },
    "version_major": 1,
    "version_minor": 0
   }
  }
 },
 "nbformat": 4,
 "nbformat_minor": 2
}
